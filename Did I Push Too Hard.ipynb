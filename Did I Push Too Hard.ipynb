{
 "cells": [
  {
   "cell_type": "code",
   "execution_count": 1,
   "metadata": {},
   "outputs": [],
   "source": [
    "import json\n",
    "import pandas as pd\n",
    "import numpy as np\n",
    "from datetime import datetime, timedelta"
   ]
  },
  {
   "cell_type": "code",
   "execution_count": 2,
   "metadata": {},
   "outputs": [
    {
     "data": {
      "text/html": [
       "<div>\n",
       "<style scoped>\n",
       "    .dataframe tbody tr th:only-of-type {\n",
       "        vertical-align: middle;\n",
       "    }\n",
       "\n",
       "    .dataframe tbody tr th {\n",
       "        vertical-align: top;\n",
       "    }\n",
       "\n",
       "    .dataframe thead th {\n",
       "        text-align: right;\n",
       "    }\n",
       "</style>\n",
       "<table border=\"1\" class=\"dataframe\">\n",
       "  <thead>\n",
       "    <tr style=\"text-align: right;\">\n",
       "      <th></th>\n",
       "      <th>dateTime</th>\n",
       "      <th>value</th>\n",
       "    </tr>\n",
       "  </thead>\n",
       "  <tbody>\n",
       "    <tr>\n",
       "      <th>0</th>\n",
       "      <td>2020-12-10 08:00:01</td>\n",
       "      <td>{'bpm': 65, 'confidence': 3}</td>\n",
       "    </tr>\n",
       "    <tr>\n",
       "      <th>1</th>\n",
       "      <td>2020-12-10 08:00:06</td>\n",
       "      <td>{'bpm': 63, 'confidence': 3}</td>\n",
       "    </tr>\n",
       "    <tr>\n",
       "      <th>2</th>\n",
       "      <td>2020-12-10 08:00:16</td>\n",
       "      <td>{'bpm': 64, 'confidence': 3}</td>\n",
       "    </tr>\n",
       "    <tr>\n",
       "      <th>3</th>\n",
       "      <td>2020-12-10 08:00:21</td>\n",
       "      <td>{'bpm': 68, 'confidence': 3}</td>\n",
       "    </tr>\n",
       "    <tr>\n",
       "      <th>4</th>\n",
       "      <td>2020-12-10 08:00:26</td>\n",
       "      <td>{'bpm': 73, 'confidence': 3}</td>\n",
       "    </tr>\n",
       "  </tbody>\n",
       "</table>\n",
       "</div>"
      ],
      "text/plain": [
       "             dateTime                         value\n",
       "0 2020-12-10 08:00:01  {'bpm': 65, 'confidence': 3}\n",
       "1 2020-12-10 08:00:06  {'bpm': 63, 'confidence': 3}\n",
       "2 2020-12-10 08:00:16  {'bpm': 64, 'confidence': 3}\n",
       "3 2020-12-10 08:00:21  {'bpm': 68, 'confidence': 3}\n",
       "4 2020-12-10 08:00:26  {'bpm': 73, 'confidence': 3}"
      ]
     },
     "execution_count": 2,
     "metadata": {},
     "output_type": "execute_result"
    }
   ],
   "source": [
    "# import fitbit download json file\n",
    "df = pd.read_json (r'C:\\Users\\spice\\Documents\\Fitbit\\AndrewJamieson\\Physical Activity\\heart_rate-2020-12-10.json')\n",
    "df.head()"
   ]
  },
  {
   "cell_type": "code",
   "execution_count": 3,
   "metadata": {},
   "outputs": [],
   "source": [
    "# new dataframe with value split into columns\n",
    "df2 = pd.concat([df.drop(['value'], axis=1), df['value'].apply(pd.Series)], axis=1)"
   ]
  },
  {
   "cell_type": "code",
   "execution_count": 4,
   "metadata": {},
   "outputs": [],
   "source": [
    "# adjust timezone from UTC to PST (note standard time only, need to change for daylight saving)\n",
    "df2['PST'] = df2.dateTime + timedelta(hours = -8)"
   ]
  },
  {
   "cell_type": "code",
   "execution_count": 5,
   "metadata": {},
   "outputs": [],
   "source": [
    "# split out day, hours, mins, secs\n",
    "df2['date'] = df2.PST.dt.date\n",
    "df2['hours'] = df2.PST.dt.hour\n",
    "df2['minutes'] = df2.PST.dt.minute\n",
    "df2['seconds'] = df2.PST.dt.second"
   ]
  },
  {
   "cell_type": "code",
   "execution_count": 6,
   "metadata": {},
   "outputs": [
    {
     "data": {
      "text/html": [
       "<div>\n",
       "<style scoped>\n",
       "    .dataframe tbody tr th:only-of-type {\n",
       "        vertical-align: middle;\n",
       "    }\n",
       "\n",
       "    .dataframe tbody tr th {\n",
       "        vertical-align: top;\n",
       "    }\n",
       "\n",
       "    .dataframe thead th {\n",
       "        text-align: right;\n",
       "    }\n",
       "</style>\n",
       "<table border=\"1\" class=\"dataframe\">\n",
       "  <thead>\n",
       "    <tr style=\"text-align: right;\">\n",
       "      <th></th>\n",
       "      <th>dateTime</th>\n",
       "      <th>bpm</th>\n",
       "      <th>confidence</th>\n",
       "      <th>PST</th>\n",
       "      <th>date</th>\n",
       "      <th>hours</th>\n",
       "      <th>minutes</th>\n",
       "      <th>seconds</th>\n",
       "    </tr>\n",
       "  </thead>\n",
       "  <tbody>\n",
       "    <tr>\n",
       "      <th>0</th>\n",
       "      <td>2020-12-10 08:00:01</td>\n",
       "      <td>65</td>\n",
       "      <td>3</td>\n",
       "      <td>2020-12-10 00:00:01</td>\n",
       "      <td>2020-12-10</td>\n",
       "      <td>0</td>\n",
       "      <td>0</td>\n",
       "      <td>1</td>\n",
       "    </tr>\n",
       "    <tr>\n",
       "      <th>1</th>\n",
       "      <td>2020-12-10 08:00:06</td>\n",
       "      <td>63</td>\n",
       "      <td>3</td>\n",
       "      <td>2020-12-10 00:00:06</td>\n",
       "      <td>2020-12-10</td>\n",
       "      <td>0</td>\n",
       "      <td>0</td>\n",
       "      <td>6</td>\n",
       "    </tr>\n",
       "    <tr>\n",
       "      <th>2</th>\n",
       "      <td>2020-12-10 08:00:16</td>\n",
       "      <td>64</td>\n",
       "      <td>3</td>\n",
       "      <td>2020-12-10 00:00:16</td>\n",
       "      <td>2020-12-10</td>\n",
       "      <td>0</td>\n",
       "      <td>0</td>\n",
       "      <td>16</td>\n",
       "    </tr>\n",
       "    <tr>\n",
       "      <th>3</th>\n",
       "      <td>2020-12-10 08:00:21</td>\n",
       "      <td>68</td>\n",
       "      <td>3</td>\n",
       "      <td>2020-12-10 00:00:21</td>\n",
       "      <td>2020-12-10</td>\n",
       "      <td>0</td>\n",
       "      <td>0</td>\n",
       "      <td>21</td>\n",
       "    </tr>\n",
       "    <tr>\n",
       "      <th>4</th>\n",
       "      <td>2020-12-10 08:00:26</td>\n",
       "      <td>73</td>\n",
       "      <td>3</td>\n",
       "      <td>2020-12-10 00:00:26</td>\n",
       "      <td>2020-12-10</td>\n",
       "      <td>0</td>\n",
       "      <td>0</td>\n",
       "      <td>26</td>\n",
       "    </tr>\n",
       "  </tbody>\n",
       "</table>\n",
       "</div>"
      ],
      "text/plain": [
       "             dateTime  bpm  confidence                 PST        date  hours  \\\n",
       "0 2020-12-10 08:00:01   65           3 2020-12-10 00:00:01  2020-12-10      0   \n",
       "1 2020-12-10 08:00:06   63           3 2020-12-10 00:00:06  2020-12-10      0   \n",
       "2 2020-12-10 08:00:16   64           3 2020-12-10 00:00:16  2020-12-10      0   \n",
       "3 2020-12-10 08:00:21   68           3 2020-12-10 00:00:21  2020-12-10      0   \n",
       "4 2020-12-10 08:00:26   73           3 2020-12-10 00:00:26  2020-12-10      0   \n",
       "\n",
       "   minutes  seconds  \n",
       "0        0        1  \n",
       "1        0        6  \n",
       "2        0       16  \n",
       "3        0       21  \n",
       "4        0       26  "
      ]
     },
     "execution_count": 6,
     "metadata": {},
     "output_type": "execute_result"
    }
   ],
   "source": [
    "df2.head()"
   ]
  },
  {
   "cell_type": "code",
   "execution_count": null,
   "metadata": {},
   "outputs": [],
   "source": []
  }
 ],
 "metadata": {
  "kernelspec": {
   "display_name": "Python 3",
   "language": "python",
   "name": "python3"
  },
  "language_info": {
   "codemirror_mode": {
    "name": "ipython",
    "version": 3
   },
   "file_extension": ".py",
   "mimetype": "text/x-python",
   "name": "python",
   "nbconvert_exporter": "python",
   "pygments_lexer": "ipython3",
   "version": "3.7.9"
  }
 },
 "nbformat": 4,
 "nbformat_minor": 4
}
