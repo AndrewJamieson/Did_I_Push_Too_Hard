{
 "cells": [
  {
   "cell_type": "code",
   "execution_count": 1,
   "metadata": {},
   "outputs": [],
   "source": [
    "import json\n",
    "import pandas as pd\n",
    "import numpy as np\n",
    "from datetime import datetime, timedelta"
   ]
  },
  {
   "cell_type": "code",
   "execution_count": 2,
   "metadata": {},
   "outputs": [
    {
     "data": {
      "text/html": [
       "<div>\n",
       "<style scoped>\n",
       "    .dataframe tbody tr th:only-of-type {\n",
       "        vertical-align: middle;\n",
       "    }\n",
       "\n",
       "    .dataframe tbody tr th {\n",
       "        vertical-align: top;\n",
       "    }\n",
       "\n",
       "    .dataframe thead th {\n",
       "        text-align: right;\n",
       "    }\n",
       "</style>\n",
       "<table border=\"1\" class=\"dataframe\">\n",
       "  <thead>\n",
       "    <tr style=\"text-align: right;\">\n",
       "      <th></th>\n",
       "      <th>dateTime</th>\n",
       "      <th>value</th>\n",
       "    </tr>\n",
       "  </thead>\n",
       "  <tbody>\n",
       "    <tr>\n",
       "      <th>0</th>\n",
       "      <td>2020-12-10 08:00:01</td>\n",
       "      <td>{'bpm': 65, 'confidence': 3}</td>\n",
       "    </tr>\n",
       "    <tr>\n",
       "      <th>1</th>\n",
       "      <td>2020-12-10 08:00:06</td>\n",
       "      <td>{'bpm': 63, 'confidence': 3}</td>\n",
       "    </tr>\n",
       "    <tr>\n",
       "      <th>2</th>\n",
       "      <td>2020-12-10 08:00:16</td>\n",
       "      <td>{'bpm': 64, 'confidence': 3}</td>\n",
       "    </tr>\n",
       "    <tr>\n",
       "      <th>3</th>\n",
       "      <td>2020-12-10 08:00:21</td>\n",
       "      <td>{'bpm': 68, 'confidence': 3}</td>\n",
       "    </tr>\n",
       "    <tr>\n",
       "      <th>4</th>\n",
       "      <td>2020-12-10 08:00:26</td>\n",
       "      <td>{'bpm': 73, 'confidence': 3}</td>\n",
       "    </tr>\n",
       "  </tbody>\n",
       "</table>\n",
       "</div>"
      ],
      "text/plain": [
       "             dateTime                         value\n",
       "0 2020-12-10 08:00:01  {'bpm': 65, 'confidence': 3}\n",
       "1 2020-12-10 08:00:06  {'bpm': 63, 'confidence': 3}\n",
       "2 2020-12-10 08:00:16  {'bpm': 64, 'confidence': 3}\n",
       "3 2020-12-10 08:00:21  {'bpm': 68, 'confidence': 3}\n",
       "4 2020-12-10 08:00:26  {'bpm': 73, 'confidence': 3}"
      ]
     },
     "execution_count": 2,
     "metadata": {},
     "output_type": "execute_result"
    }
   ],
   "source": [
    "# import fitbit download json file\n",
    "df = pd.read_json (r'C:\\Users\\spice\\Documents\\Fitbit\\AndrewJamieson\\Physical Activity\\heart_rate-2020-12-10.json')\n",
    "df.head()"
   ]
  },
  {
   "cell_type": "code",
   "execution_count": 3,
   "metadata": {},
   "outputs": [],
   "source": [
    "# new dataframe with value split into columns\n",
    "df2 = pd.concat([df.drop(['value'], axis=1), df['value'].apply(pd.Series)], axis=1)"
   ]
  },
  {
   "cell_type": "code",
   "execution_count": 4,
   "metadata": {},
   "outputs": [],
   "source": [
    "# adjust timezone from UTC to PST (note standard time only, need to change for daylight saving)\n",
    "df2['PST'] = df2.dateTime + timedelta(hours = -8)"
   ]
  },
  {
   "cell_type": "code",
   "execution_count": 5,
   "metadata": {},
   "outputs": [],
   "source": [
    "# split out day, hours, mins, secs\n",
    "df2['date'] = df2.PST.dt.date\n",
    "df2['hours'] = df2.PST.dt.hour\n",
    "df2['minutes'] = df2.PST.dt.minute\n",
    "df2['seconds'] = df2.PST.dt.second"
   ]
  },
  {
   "cell_type": "code",
   "execution_count": 6,
   "metadata": {},
   "outputs": [
    {
     "data": {
      "text/html": [
       "<div>\n",
       "<style scoped>\n",
       "    .dataframe tbody tr th:only-of-type {\n",
       "        vertical-align: middle;\n",
       "    }\n",
       "\n",
       "    .dataframe tbody tr th {\n",
       "        vertical-align: top;\n",
       "    }\n",
       "\n",
       "    .dataframe thead th {\n",
       "        text-align: right;\n",
       "    }\n",
       "</style>\n",
       "<table border=\"1\" class=\"dataframe\">\n",
       "  <thead>\n",
       "    <tr style=\"text-align: right;\">\n",
       "      <th></th>\n",
       "      <th>dateTime</th>\n",
       "      <th>bpm</th>\n",
       "      <th>confidence</th>\n",
       "      <th>PST</th>\n",
       "      <th>date</th>\n",
       "      <th>hours</th>\n",
       "      <th>minutes</th>\n",
       "      <th>seconds</th>\n",
       "    </tr>\n",
       "  </thead>\n",
       "  <tbody>\n",
       "    <tr>\n",
       "      <th>0</th>\n",
       "      <td>2020-12-10 08:00:01</td>\n",
       "      <td>65</td>\n",
       "      <td>3</td>\n",
       "      <td>2020-12-10 00:00:01</td>\n",
       "      <td>2020-12-10</td>\n",
       "      <td>0</td>\n",
       "      <td>0</td>\n",
       "      <td>1</td>\n",
       "    </tr>\n",
       "    <tr>\n",
       "      <th>1</th>\n",
       "      <td>2020-12-10 08:00:06</td>\n",
       "      <td>63</td>\n",
       "      <td>3</td>\n",
       "      <td>2020-12-10 00:00:06</td>\n",
       "      <td>2020-12-10</td>\n",
       "      <td>0</td>\n",
       "      <td>0</td>\n",
       "      <td>6</td>\n",
       "    </tr>\n",
       "    <tr>\n",
       "      <th>2</th>\n",
       "      <td>2020-12-10 08:00:16</td>\n",
       "      <td>64</td>\n",
       "      <td>3</td>\n",
       "      <td>2020-12-10 00:00:16</td>\n",
       "      <td>2020-12-10</td>\n",
       "      <td>0</td>\n",
       "      <td>0</td>\n",
       "      <td>16</td>\n",
       "    </tr>\n",
       "    <tr>\n",
       "      <th>3</th>\n",
       "      <td>2020-12-10 08:00:21</td>\n",
       "      <td>68</td>\n",
       "      <td>3</td>\n",
       "      <td>2020-12-10 00:00:21</td>\n",
       "      <td>2020-12-10</td>\n",
       "      <td>0</td>\n",
       "      <td>0</td>\n",
       "      <td>21</td>\n",
       "    </tr>\n",
       "    <tr>\n",
       "      <th>4</th>\n",
       "      <td>2020-12-10 08:00:26</td>\n",
       "      <td>73</td>\n",
       "      <td>3</td>\n",
       "      <td>2020-12-10 00:00:26</td>\n",
       "      <td>2020-12-10</td>\n",
       "      <td>0</td>\n",
       "      <td>0</td>\n",
       "      <td>26</td>\n",
       "    </tr>\n",
       "  </tbody>\n",
       "</table>\n",
       "</div>"
      ],
      "text/plain": [
       "             dateTime  bpm  confidence                 PST        date  hours  \\\n",
       "0 2020-12-10 08:00:01   65           3 2020-12-10 00:00:01  2020-12-10      0   \n",
       "1 2020-12-10 08:00:06   63           3 2020-12-10 00:00:06  2020-12-10      0   \n",
       "2 2020-12-10 08:00:16   64           3 2020-12-10 00:00:16  2020-12-10      0   \n",
       "3 2020-12-10 08:00:21   68           3 2020-12-10 00:00:21  2020-12-10      0   \n",
       "4 2020-12-10 08:00:26   73           3 2020-12-10 00:00:26  2020-12-10      0   \n",
       "\n",
       "   minutes  seconds  \n",
       "0        0        1  \n",
       "1        0        6  \n",
       "2        0       16  \n",
       "3        0       21  \n",
       "4        0       26  "
      ]
     },
     "execution_count": 6,
     "metadata": {},
     "output_type": "execute_result"
    }
   ],
   "source": [
    "df2.head()"
   ]
  },
  {
   "cell_type": "code",
   "execution_count": 7,
   "metadata": {},
   "outputs": [
    {
     "name": "stdout",
     "output_type": "stream",
     "text": [
      "Maximum heartrate is 200\n"
     ]
    },
    {
     "data": {
      "text/html": [
       "<div>\n",
       "<style scoped>\n",
       "    .dataframe tbody tr th:only-of-type {\n",
       "        vertical-align: middle;\n",
       "    }\n",
       "\n",
       "    .dataframe tbody tr th {\n",
       "        vertical-align: top;\n",
       "    }\n",
       "\n",
       "    .dataframe thead th {\n",
       "        text-align: right;\n",
       "    }\n",
       "</style>\n",
       "<table border=\"1\" class=\"dataframe\">\n",
       "  <thead>\n",
       "    <tr style=\"text-align: right;\">\n",
       "      <th></th>\n",
       "      <th>dateTime</th>\n",
       "      <th>bpm</th>\n",
       "      <th>confidence</th>\n",
       "      <th>PST</th>\n",
       "      <th>date</th>\n",
       "      <th>hours</th>\n",
       "      <th>minutes</th>\n",
       "      <th>seconds</th>\n",
       "    </tr>\n",
       "  </thead>\n",
       "  <tbody>\n",
       "    <tr>\n",
       "      <th>7420</th>\n",
       "      <td>2020-12-11 00:46:21</td>\n",
       "      <td>200</td>\n",
       "      <td>1</td>\n",
       "      <td>2020-12-10 16:46:21</td>\n",
       "      <td>2020-12-10</td>\n",
       "      <td>16</td>\n",
       "      <td>46</td>\n",
       "      <td>21</td>\n",
       "    </tr>\n",
       "  </tbody>\n",
       "</table>\n",
       "</div>"
      ],
      "text/plain": [
       "                dateTime  bpm  confidence                 PST        date  \\\n",
       "7420 2020-12-11 00:46:21  200           1 2020-12-10 16:46:21  2020-12-10   \n",
       "\n",
       "      hours  minutes  seconds  \n",
       "7420     16       46       21  "
      ]
     },
     "execution_count": 7,
     "metadata": {},
     "output_type": "execute_result"
    }
   ],
   "source": [
    "# find maximum heartrate, idx for index, double brackets to return result as a row vs series\n",
    "print(f'Maximum heartrate is {df2.bpm.max()}')\n",
    "max_idx = df2.bpm.idxmax()\n",
    "df2.iloc[[max_idx]]"
   ]
  },
  {
   "cell_type": "code",
   "execution_count": 8,
   "metadata": {},
   "outputs": [
    {
     "data": {
      "text/plain": [
       "67.35415282392026"
      ]
     },
     "execution_count": 8,
     "metadata": {},
     "output_type": "execute_result"
    }
   ],
   "source": [
    "df2.bpm.mean()"
   ]
  },
  {
   "cell_type": "code",
   "execution_count": 9,
   "metadata": {},
   "outputs": [
    {
     "name": "stdout",
     "output_type": "stream",
     "text": [
      "Minimum heartrate is 47\n"
     ]
    },
    {
     "data": {
      "text/html": [
       "<div>\n",
       "<style scoped>\n",
       "    .dataframe tbody tr th:only-of-type {\n",
       "        vertical-align: middle;\n",
       "    }\n",
       "\n",
       "    .dataframe tbody tr th {\n",
       "        vertical-align: top;\n",
       "    }\n",
       "\n",
       "    .dataframe thead th {\n",
       "        text-align: right;\n",
       "    }\n",
       "</style>\n",
       "<table border=\"1\" class=\"dataframe\">\n",
       "  <thead>\n",
       "    <tr style=\"text-align: right;\">\n",
       "      <th></th>\n",
       "      <th>dateTime</th>\n",
       "      <th>bpm</th>\n",
       "      <th>confidence</th>\n",
       "      <th>PST</th>\n",
       "      <th>date</th>\n",
       "      <th>hours</th>\n",
       "      <th>minutes</th>\n",
       "      <th>seconds</th>\n",
       "    </tr>\n",
       "  </thead>\n",
       "  <tbody>\n",
       "    <tr>\n",
       "      <th>4494</th>\n",
       "      <td>2020-12-10 17:11:02</td>\n",
       "      <td>47</td>\n",
       "      <td>3</td>\n",
       "      <td>2020-12-10 09:11:02</td>\n",
       "      <td>2020-12-10</td>\n",
       "      <td>9</td>\n",
       "      <td>11</td>\n",
       "      <td>2</td>\n",
       "    </tr>\n",
       "  </tbody>\n",
       "</table>\n",
       "</div>"
      ],
      "text/plain": [
       "                dateTime  bpm  confidence                 PST        date  \\\n",
       "4494 2020-12-10 17:11:02   47           3 2020-12-10 09:11:02  2020-12-10   \n",
       "\n",
       "      hours  minutes  seconds  \n",
       "4494      9       11        2  "
      ]
     },
     "execution_count": 9,
     "metadata": {},
     "output_type": "execute_result"
    }
   ],
   "source": [
    "print(f'Minimum heartrate is {df2.bpm.min()}')\n",
    "min_idx = df2.bpm.idxmin()\n",
    "df2.iloc[[min_idx]]"
   ]
  },
  {
   "cell_type": "code",
   "execution_count": 10,
   "metadata": {},
   "outputs": [
    {
     "name": "stdout",
     "output_type": "stream",
     "text": [
      "180\n",
      "180.0\n"
     ]
    }
   ],
   "source": [
    "age = 40\n",
    "max_hr_basic = 220 - age\n",
    "max_hr_tanaka = 208 - 0.7 * age\n",
    "\n",
    "print(max_hr_basic)\n",
    "print(max_hr_tanaka)\n",
    "# Note: However, these measures are over simplistic \n",
    "# Less accurate for both younger and older people, \n",
    "# Does not consider variables specific to you / your genetics."
   ]
  },
  {
   "cell_type": "markdown",
   "metadata": {},
   "source": [
    "### Create Dataframe over Max Heart Rate"
   ]
  },
  {
   "cell_type": "code",
   "execution_count": 11,
   "metadata": {},
   "outputs": [],
   "source": [
    "# new df where heart rate is greater than max hr\n",
    "df3 = df2.loc[df2['bpm'] > max_hr_basic]"
   ]
  },
  {
   "cell_type": "code",
   "execution_count": 12,
   "metadata": {},
   "outputs": [],
   "source": [
    "# make new column from df2 index\n",
    "df3 = df3.assign(original_index = df3.index)"
   ]
  },
  {
   "cell_type": "code",
   "execution_count": 13,
   "metadata": {},
   "outputs": [],
   "source": [
    "# reset index to avoid copy warning\n",
    "df3 = df3.reset_index(drop=True)"
   ]
  },
  {
   "cell_type": "code",
   "execution_count": 14,
   "metadata": {},
   "outputs": [],
   "source": [
    "# group consecutive time stamps together, start by measuring the difference between each index\n",
    "# want consecutive rows to measure total time above max heart rate\n",
    "df3['change'] = (df3['original_index'] - df3['original_index'].shift(1) )"
   ]
  },
  {
   "cell_type": "code",
   "execution_count": 15,
   "metadata": {},
   "outputs": [],
   "source": [
    "# loop through df. If change increment is not 1, start a new group\n",
    "result = []\n",
    "grp = 0\n",
    "for value in df3[\"change\"]: \n",
    "    if value != 1.0: \n",
    "        grp += 1\n",
    "        result.append(grp) \n",
    "    else: \n",
    "        result.append(grp) \n",
    "       \n",
    "df3[\"group2\"] = result    "
   ]
  },
  {
   "cell_type": "code",
   "execution_count": 16,
   "metadata": {},
   "outputs": [
    {
     "data": {
      "text/html": [
       "<div>\n",
       "<style scoped>\n",
       "    .dataframe tbody tr th:only-of-type {\n",
       "        vertical-align: middle;\n",
       "    }\n",
       "\n",
       "    .dataframe tbody tr th {\n",
       "        vertical-align: top;\n",
       "    }\n",
       "\n",
       "    .dataframe thead th {\n",
       "        text-align: right;\n",
       "    }\n",
       "</style>\n",
       "<table border=\"1\" class=\"dataframe\">\n",
       "  <thead>\n",
       "    <tr style=\"text-align: right;\">\n",
       "      <th></th>\n",
       "      <th>dateTime</th>\n",
       "      <th>bpm</th>\n",
       "      <th>confidence</th>\n",
       "      <th>PST</th>\n",
       "      <th>date</th>\n",
       "      <th>hours</th>\n",
       "      <th>minutes</th>\n",
       "      <th>seconds</th>\n",
       "      <th>original_index</th>\n",
       "      <th>change</th>\n",
       "      <th>group2</th>\n",
       "    </tr>\n",
       "  </thead>\n",
       "  <tbody>\n",
       "    <tr>\n",
       "      <th>0</th>\n",
       "      <td>2020-12-11 00:44:16</td>\n",
       "      <td>181</td>\n",
       "      <td>1</td>\n",
       "      <td>2020-12-10 16:44:16</td>\n",
       "      <td>2020-12-10</td>\n",
       "      <td>16</td>\n",
       "      <td>44</td>\n",
       "      <td>16</td>\n",
       "      <td>7397</td>\n",
       "      <td>NaN</td>\n",
       "      <td>1</td>\n",
       "    </tr>\n",
       "    <tr>\n",
       "      <th>1</th>\n",
       "      <td>2020-12-11 00:44:21</td>\n",
       "      <td>193</td>\n",
       "      <td>1</td>\n",
       "      <td>2020-12-10 16:44:21</td>\n",
       "      <td>2020-12-10</td>\n",
       "      <td>16</td>\n",
       "      <td>44</td>\n",
       "      <td>21</td>\n",
       "      <td>7398</td>\n",
       "      <td>1.0</td>\n",
       "      <td>1</td>\n",
       "    </tr>\n",
       "    <tr>\n",
       "      <th>2</th>\n",
       "      <td>2020-12-11 00:44:26</td>\n",
       "      <td>192</td>\n",
       "      <td>1</td>\n",
       "      <td>2020-12-10 16:44:26</td>\n",
       "      <td>2020-12-10</td>\n",
       "      <td>16</td>\n",
       "      <td>44</td>\n",
       "      <td>26</td>\n",
       "      <td>7399</td>\n",
       "      <td>1.0</td>\n",
       "      <td>1</td>\n",
       "    </tr>\n",
       "    <tr>\n",
       "      <th>3</th>\n",
       "      <td>2020-12-11 00:44:41</td>\n",
       "      <td>191</td>\n",
       "      <td>0</td>\n",
       "      <td>2020-12-10 16:44:41</td>\n",
       "      <td>2020-12-10</td>\n",
       "      <td>16</td>\n",
       "      <td>44</td>\n",
       "      <td>41</td>\n",
       "      <td>7400</td>\n",
       "      <td>1.0</td>\n",
       "      <td>1</td>\n",
       "    </tr>\n",
       "    <tr>\n",
       "      <th>4</th>\n",
       "      <td>2020-12-11 00:44:46</td>\n",
       "      <td>189</td>\n",
       "      <td>0</td>\n",
       "      <td>2020-12-10 16:44:46</td>\n",
       "      <td>2020-12-10</td>\n",
       "      <td>16</td>\n",
       "      <td>44</td>\n",
       "      <td>46</td>\n",
       "      <td>7401</td>\n",
       "      <td>1.0</td>\n",
       "      <td>1</td>\n",
       "    </tr>\n",
       "    <tr>\n",
       "      <th>5</th>\n",
       "      <td>2020-12-11 00:44:51</td>\n",
       "      <td>184</td>\n",
       "      <td>0</td>\n",
       "      <td>2020-12-10 16:44:51</td>\n",
       "      <td>2020-12-10</td>\n",
       "      <td>16</td>\n",
       "      <td>44</td>\n",
       "      <td>51</td>\n",
       "      <td>7402</td>\n",
       "      <td>1.0</td>\n",
       "      <td>1</td>\n",
       "    </tr>\n",
       "    <tr>\n",
       "      <th>6</th>\n",
       "      <td>2020-12-11 00:46:06</td>\n",
       "      <td>186</td>\n",
       "      <td>0</td>\n",
       "      <td>2020-12-10 16:46:06</td>\n",
       "      <td>2020-12-10</td>\n",
       "      <td>16</td>\n",
       "      <td>46</td>\n",
       "      <td>6</td>\n",
       "      <td>7417</td>\n",
       "      <td>15.0</td>\n",
       "      <td>2</td>\n",
       "    </tr>\n",
       "    <tr>\n",
       "      <th>7</th>\n",
       "      <td>2020-12-11 00:46:11</td>\n",
       "      <td>191</td>\n",
       "      <td>0</td>\n",
       "      <td>2020-12-10 16:46:11</td>\n",
       "      <td>2020-12-10</td>\n",
       "      <td>16</td>\n",
       "      <td>46</td>\n",
       "      <td>11</td>\n",
       "      <td>7418</td>\n",
       "      <td>1.0</td>\n",
       "      <td>2</td>\n",
       "    </tr>\n",
       "    <tr>\n",
       "      <th>8</th>\n",
       "      <td>2020-12-11 00:46:16</td>\n",
       "      <td>195</td>\n",
       "      <td>1</td>\n",
       "      <td>2020-12-10 16:46:16</td>\n",
       "      <td>2020-12-10</td>\n",
       "      <td>16</td>\n",
       "      <td>46</td>\n",
       "      <td>16</td>\n",
       "      <td>7419</td>\n",
       "      <td>1.0</td>\n",
       "      <td>2</td>\n",
       "    </tr>\n",
       "    <tr>\n",
       "      <th>9</th>\n",
       "      <td>2020-12-11 00:46:21</td>\n",
       "      <td>200</td>\n",
       "      <td>1</td>\n",
       "      <td>2020-12-10 16:46:21</td>\n",
       "      <td>2020-12-10</td>\n",
       "      <td>16</td>\n",
       "      <td>46</td>\n",
       "      <td>21</td>\n",
       "      <td>7420</td>\n",
       "      <td>1.0</td>\n",
       "      <td>2</td>\n",
       "    </tr>\n",
       "    <tr>\n",
       "      <th>10</th>\n",
       "      <td>2020-12-11 00:46:26</td>\n",
       "      <td>199</td>\n",
       "      <td>1</td>\n",
       "      <td>2020-12-10 16:46:26</td>\n",
       "      <td>2020-12-10</td>\n",
       "      <td>16</td>\n",
       "      <td>46</td>\n",
       "      <td>26</td>\n",
       "      <td>7421</td>\n",
       "      <td>1.0</td>\n",
       "      <td>2</td>\n",
       "    </tr>\n",
       "    <tr>\n",
       "      <th>11</th>\n",
       "      <td>2020-12-11 00:46:31</td>\n",
       "      <td>197</td>\n",
       "      <td>1</td>\n",
       "      <td>2020-12-10 16:46:31</td>\n",
       "      <td>2020-12-10</td>\n",
       "      <td>16</td>\n",
       "      <td>46</td>\n",
       "      <td>31</td>\n",
       "      <td>7422</td>\n",
       "      <td>1.0</td>\n",
       "      <td>2</td>\n",
       "    </tr>\n",
       "    <tr>\n",
       "      <th>12</th>\n",
       "      <td>2020-12-11 00:46:36</td>\n",
       "      <td>195</td>\n",
       "      <td>1</td>\n",
       "      <td>2020-12-10 16:46:36</td>\n",
       "      <td>2020-12-10</td>\n",
       "      <td>16</td>\n",
       "      <td>46</td>\n",
       "      <td>36</td>\n",
       "      <td>7423</td>\n",
       "      <td>1.0</td>\n",
       "      <td>2</td>\n",
       "    </tr>\n",
       "    <tr>\n",
       "      <th>13</th>\n",
       "      <td>2020-12-11 00:46:41</td>\n",
       "      <td>193</td>\n",
       "      <td>1</td>\n",
       "      <td>2020-12-10 16:46:41</td>\n",
       "      <td>2020-12-10</td>\n",
       "      <td>16</td>\n",
       "      <td>46</td>\n",
       "      <td>41</td>\n",
       "      <td>7424</td>\n",
       "      <td>1.0</td>\n",
       "      <td>2</td>\n",
       "    </tr>\n",
       "    <tr>\n",
       "      <th>14</th>\n",
       "      <td>2020-12-11 00:46:46</td>\n",
       "      <td>185</td>\n",
       "      <td>1</td>\n",
       "      <td>2020-12-10 16:46:46</td>\n",
       "      <td>2020-12-10</td>\n",
       "      <td>16</td>\n",
       "      <td>46</td>\n",
       "      <td>46</td>\n",
       "      <td>7425</td>\n",
       "      <td>1.0</td>\n",
       "      <td>2</td>\n",
       "    </tr>\n",
       "    <tr>\n",
       "      <th>15</th>\n",
       "      <td>2020-12-11 00:48:47</td>\n",
       "      <td>184</td>\n",
       "      <td>1</td>\n",
       "      <td>2020-12-10 16:48:47</td>\n",
       "      <td>2020-12-10</td>\n",
       "      <td>16</td>\n",
       "      <td>48</td>\n",
       "      <td>47</td>\n",
       "      <td>7447</td>\n",
       "      <td>22.0</td>\n",
       "      <td>3</td>\n",
       "    </tr>\n",
       "    <tr>\n",
       "      <th>16</th>\n",
       "      <td>2020-12-11 00:48:52</td>\n",
       "      <td>183</td>\n",
       "      <td>1</td>\n",
       "      <td>2020-12-10 16:48:52</td>\n",
       "      <td>2020-12-10</td>\n",
       "      <td>16</td>\n",
       "      <td>48</td>\n",
       "      <td>52</td>\n",
       "      <td>7448</td>\n",
       "      <td>1.0</td>\n",
       "      <td>3</td>\n",
       "    </tr>\n",
       "  </tbody>\n",
       "</table>\n",
       "</div>"
      ],
      "text/plain": [
       "              dateTime  bpm  confidence                 PST        date  \\\n",
       "0  2020-12-11 00:44:16  181           1 2020-12-10 16:44:16  2020-12-10   \n",
       "1  2020-12-11 00:44:21  193           1 2020-12-10 16:44:21  2020-12-10   \n",
       "2  2020-12-11 00:44:26  192           1 2020-12-10 16:44:26  2020-12-10   \n",
       "3  2020-12-11 00:44:41  191           0 2020-12-10 16:44:41  2020-12-10   \n",
       "4  2020-12-11 00:44:46  189           0 2020-12-10 16:44:46  2020-12-10   \n",
       "5  2020-12-11 00:44:51  184           0 2020-12-10 16:44:51  2020-12-10   \n",
       "6  2020-12-11 00:46:06  186           0 2020-12-10 16:46:06  2020-12-10   \n",
       "7  2020-12-11 00:46:11  191           0 2020-12-10 16:46:11  2020-12-10   \n",
       "8  2020-12-11 00:46:16  195           1 2020-12-10 16:46:16  2020-12-10   \n",
       "9  2020-12-11 00:46:21  200           1 2020-12-10 16:46:21  2020-12-10   \n",
       "10 2020-12-11 00:46:26  199           1 2020-12-10 16:46:26  2020-12-10   \n",
       "11 2020-12-11 00:46:31  197           1 2020-12-10 16:46:31  2020-12-10   \n",
       "12 2020-12-11 00:46:36  195           1 2020-12-10 16:46:36  2020-12-10   \n",
       "13 2020-12-11 00:46:41  193           1 2020-12-10 16:46:41  2020-12-10   \n",
       "14 2020-12-11 00:46:46  185           1 2020-12-10 16:46:46  2020-12-10   \n",
       "15 2020-12-11 00:48:47  184           1 2020-12-10 16:48:47  2020-12-10   \n",
       "16 2020-12-11 00:48:52  183           1 2020-12-10 16:48:52  2020-12-10   \n",
       "\n",
       "    hours  minutes  seconds  original_index  change  group2  \n",
       "0      16       44       16            7397     NaN       1  \n",
       "1      16       44       21            7398     1.0       1  \n",
       "2      16       44       26            7399     1.0       1  \n",
       "3      16       44       41            7400     1.0       1  \n",
       "4      16       44       46            7401     1.0       1  \n",
       "5      16       44       51            7402     1.0       1  \n",
       "6      16       46        6            7417    15.0       2  \n",
       "7      16       46       11            7418     1.0       2  \n",
       "8      16       46       16            7419     1.0       2  \n",
       "9      16       46       21            7420     1.0       2  \n",
       "10     16       46       26            7421     1.0       2  \n",
       "11     16       46       31            7422     1.0       2  \n",
       "12     16       46       36            7423     1.0       2  \n",
       "13     16       46       41            7424     1.0       2  \n",
       "14     16       46       46            7425     1.0       2  \n",
       "15     16       48       47            7447    22.0       3  \n",
       "16     16       48       52            7448     1.0       3  "
      ]
     },
     "execution_count": 16,
     "metadata": {},
     "output_type": "execute_result"
    }
   ],
   "source": [
    "# dataframe with all measurements above max heart rate\n",
    "df3"
   ]
  },
  {
   "cell_type": "markdown",
   "metadata": {},
   "source": [
    "#### Start and Finish time above max heart rate"
   ]
  },
  {
   "cell_type": "code",
   "execution_count": 31,
   "metadata": {},
   "outputs": [
    {
     "data": {
      "text/html": [
       "<div>\n",
       "<style scoped>\n",
       "    .dataframe tbody tr th:only-of-type {\n",
       "        vertical-align: middle;\n",
       "    }\n",
       "\n",
       "    .dataframe tbody tr th {\n",
       "        vertical-align: top;\n",
       "    }\n",
       "\n",
       "    .dataframe thead tr th {\n",
       "        text-align: left;\n",
       "    }\n",
       "\n",
       "    .dataframe thead tr:last-of-type th {\n",
       "        text-align: right;\n",
       "    }\n",
       "</style>\n",
       "<table border=\"1\" class=\"dataframe\">\n",
       "  <thead>\n",
       "    <tr>\n",
       "      <th></th>\n",
       "      <th colspan=\"2\" halign=\"left\">PST</th>\n",
       "    </tr>\n",
       "    <tr>\n",
       "      <th></th>\n",
       "      <th>min</th>\n",
       "      <th>max</th>\n",
       "    </tr>\n",
       "    <tr>\n",
       "      <th>group2</th>\n",
       "      <th></th>\n",
       "      <th></th>\n",
       "    </tr>\n",
       "  </thead>\n",
       "  <tbody>\n",
       "    <tr>\n",
       "      <th>1</th>\n",
       "      <td>2020-12-10 16:44:16</td>\n",
       "      <td>2020-12-10 16:44:51</td>\n",
       "    </tr>\n",
       "    <tr>\n",
       "      <th>2</th>\n",
       "      <td>2020-12-10 16:46:06</td>\n",
       "      <td>2020-12-10 16:46:46</td>\n",
       "    </tr>\n",
       "    <tr>\n",
       "      <th>3</th>\n",
       "      <td>2020-12-10 16:48:47</td>\n",
       "      <td>2020-12-10 16:48:52</td>\n",
       "    </tr>\n",
       "  </tbody>\n",
       "</table>\n",
       "</div>"
      ],
      "text/plain": [
       "                       PST                    \n",
       "                       min                 max\n",
       "group2                                        \n",
       "1      2020-12-10 16:44:16 2020-12-10 16:44:51\n",
       "2      2020-12-10 16:46:06 2020-12-10 16:46:46\n",
       "3      2020-12-10 16:48:47 2020-12-10 16:48:52"
      ]
     },
     "execution_count": 31,
     "metadata": {},
     "output_type": "execute_result"
    }
   ],
   "source": [
    "# find start and finish time using max and min\n",
    "result = df3.groupby('group2').agg({'PST': ['min', 'max']})\n",
    "result"
   ]
  },
  {
   "cell_type": "code",
   "execution_count": 51,
   "metadata": {},
   "outputs": [],
   "source": [
    "# difference between start and finish\n",
    "result['diff'] = result.PST['max']-result.PST['min']"
   ]
  },
  {
   "cell_type": "code",
   "execution_count": 34,
   "metadata": {},
   "outputs": [
    {
     "data": {
      "text/html": [
       "<div>\n",
       "<style scoped>\n",
       "    .dataframe tbody tr th:only-of-type {\n",
       "        vertical-align: middle;\n",
       "    }\n",
       "\n",
       "    .dataframe tbody tr th {\n",
       "        vertical-align: top;\n",
       "    }\n",
       "\n",
       "    .dataframe thead tr th {\n",
       "        text-align: left;\n",
       "    }\n",
       "\n",
       "    .dataframe thead tr:last-of-type th {\n",
       "        text-align: right;\n",
       "    }\n",
       "</style>\n",
       "<table border=\"1\" class=\"dataframe\">\n",
       "  <thead>\n",
       "    <tr>\n",
       "      <th></th>\n",
       "      <th colspan=\"2\" halign=\"left\">PST</th>\n",
       "      <th>diff</th>\n",
       "    </tr>\n",
       "    <tr>\n",
       "      <th></th>\n",
       "      <th>min</th>\n",
       "      <th>max</th>\n",
       "      <th></th>\n",
       "    </tr>\n",
       "    <tr>\n",
       "      <th>group2</th>\n",
       "      <th></th>\n",
       "      <th></th>\n",
       "      <th></th>\n",
       "    </tr>\n",
       "  </thead>\n",
       "  <tbody>\n",
       "    <tr>\n",
       "      <th>1</th>\n",
       "      <td>2020-12-10 16:44:16</td>\n",
       "      <td>2020-12-10 16:44:51</td>\n",
       "      <td>0 days 00:00:35</td>\n",
       "    </tr>\n",
       "    <tr>\n",
       "      <th>2</th>\n",
       "      <td>2020-12-10 16:46:06</td>\n",
       "      <td>2020-12-10 16:46:46</td>\n",
       "      <td>0 days 00:00:40</td>\n",
       "    </tr>\n",
       "    <tr>\n",
       "      <th>3</th>\n",
       "      <td>2020-12-10 16:48:47</td>\n",
       "      <td>2020-12-10 16:48:52</td>\n",
       "      <td>0 days 00:00:05</td>\n",
       "    </tr>\n",
       "  </tbody>\n",
       "</table>\n",
       "</div>"
      ],
      "text/plain": [
       "                       PST                                diff\n",
       "                       min                 max                \n",
       "group2                                                        \n",
       "1      2020-12-10 16:44:16 2020-12-10 16:44:51 0 days 00:00:35\n",
       "2      2020-12-10 16:46:06 2020-12-10 16:46:46 0 days 00:00:40\n",
       "3      2020-12-10 16:48:47 2020-12-10 16:48:52 0 days 00:00:05"
      ]
     },
     "execution_count": 34,
     "metadata": {},
     "output_type": "execute_result"
    }
   ],
   "source": [
    "result"
   ]
  },
  {
   "cell_type": "code",
   "execution_count": 41,
   "metadata": {},
   "outputs": [
    {
     "data": {
      "text/plain": [
       "Timedelta('0 days 00:01:20')"
      ]
     },
     "execution_count": 41,
     "metadata": {},
     "output_type": "execute_result"
    }
   ],
   "source": [
    "# total time above maximum heart rate as time delta\n",
    "difference = result['diff'].sum()\n",
    "difference"
   ]
  },
  {
   "cell_type": "code",
   "execution_count": 50,
   "metadata": {},
   "outputs": [
    {
     "data": {
      "text/plain": [
       "1.3333333333333333"
      ]
     },
     "execution_count": 50,
     "metadata": {},
     "output_type": "execute_result"
    }
   ],
   "source": [
    "# total minutes above maximum heart rate (as a decimal)\n",
    "minutes = difference.total_seconds() / 60\n",
    "minutes"
   ]
  },
  {
   "cell_type": "code",
   "execution_count": null,
   "metadata": {},
   "outputs": [],
   "source": []
  },
  {
   "cell_type": "markdown",
   "metadata": {},
   "source": [
    "#### Start and Finish time above max heart rate - alternative group by method"
   ]
  },
  {
   "cell_type": "code",
   "execution_count": null,
   "metadata": {},
   "outputs": [],
   "source": [
    "df['MyColumn'].sum()"
   ]
  },
  {
   "cell_type": "code",
   "execution_count": 23,
   "metadata": {},
   "outputs": [],
   "source": [
    "result2 = df3.groupby('group2')['PST'].agg(['max','min'])"
   ]
  },
  {
   "cell_type": "code",
   "execution_count": 24,
   "metadata": {},
   "outputs": [
    {
     "data": {
      "text/html": [
       "<div>\n",
       "<style scoped>\n",
       "    .dataframe tbody tr th:only-of-type {\n",
       "        vertical-align: middle;\n",
       "    }\n",
       "\n",
       "    .dataframe tbody tr th {\n",
       "        vertical-align: top;\n",
       "    }\n",
       "\n",
       "    .dataframe thead th {\n",
       "        text-align: right;\n",
       "    }\n",
       "</style>\n",
       "<table border=\"1\" class=\"dataframe\">\n",
       "  <thead>\n",
       "    <tr style=\"text-align: right;\">\n",
       "      <th></th>\n",
       "      <th>max</th>\n",
       "      <th>min</th>\n",
       "    </tr>\n",
       "    <tr>\n",
       "      <th>group2</th>\n",
       "      <th></th>\n",
       "      <th></th>\n",
       "    </tr>\n",
       "  </thead>\n",
       "  <tbody>\n",
       "    <tr>\n",
       "      <th>1</th>\n",
       "      <td>2020-12-10 16:44:51</td>\n",
       "      <td>2020-12-10 16:44:16</td>\n",
       "    </tr>\n",
       "    <tr>\n",
       "      <th>2</th>\n",
       "      <td>2020-12-10 16:46:46</td>\n",
       "      <td>2020-12-10 16:46:06</td>\n",
       "    </tr>\n",
       "    <tr>\n",
       "      <th>3</th>\n",
       "      <td>2020-12-10 16:48:52</td>\n",
       "      <td>2020-12-10 16:48:47</td>\n",
       "    </tr>\n",
       "  </tbody>\n",
       "</table>\n",
       "</div>"
      ],
      "text/plain": [
       "                       max                 min\n",
       "group2                                        \n",
       "1      2020-12-10 16:44:51 2020-12-10 16:44:16\n",
       "2      2020-12-10 16:46:46 2020-12-10 16:46:06\n",
       "3      2020-12-10 16:48:52 2020-12-10 16:48:47"
      ]
     },
     "execution_count": 24,
     "metadata": {},
     "output_type": "execute_result"
    }
   ],
   "source": [
    "result2"
   ]
  },
  {
   "cell_type": "code",
   "execution_count": 26,
   "metadata": {},
   "outputs": [],
   "source": [
    "result2['diff'] = result2['max']-result2['min']"
   ]
  },
  {
   "cell_type": "code",
   "execution_count": 27,
   "metadata": {},
   "outputs": [
    {
     "data": {
      "text/html": [
       "<div>\n",
       "<style scoped>\n",
       "    .dataframe tbody tr th:only-of-type {\n",
       "        vertical-align: middle;\n",
       "    }\n",
       "\n",
       "    .dataframe tbody tr th {\n",
       "        vertical-align: top;\n",
       "    }\n",
       "\n",
       "    .dataframe thead th {\n",
       "        text-align: right;\n",
       "    }\n",
       "</style>\n",
       "<table border=\"1\" class=\"dataframe\">\n",
       "  <thead>\n",
       "    <tr style=\"text-align: right;\">\n",
       "      <th></th>\n",
       "      <th>max</th>\n",
       "      <th>min</th>\n",
       "      <th>diff</th>\n",
       "    </tr>\n",
       "    <tr>\n",
       "      <th>group2</th>\n",
       "      <th></th>\n",
       "      <th></th>\n",
       "      <th></th>\n",
       "    </tr>\n",
       "  </thead>\n",
       "  <tbody>\n",
       "    <tr>\n",
       "      <th>1</th>\n",
       "      <td>2020-12-10 16:44:51</td>\n",
       "      <td>2020-12-10 16:44:16</td>\n",
       "      <td>0 days 00:00:35</td>\n",
       "    </tr>\n",
       "    <tr>\n",
       "      <th>2</th>\n",
       "      <td>2020-12-10 16:46:46</td>\n",
       "      <td>2020-12-10 16:46:06</td>\n",
       "      <td>0 days 00:00:40</td>\n",
       "    </tr>\n",
       "    <tr>\n",
       "      <th>3</th>\n",
       "      <td>2020-12-10 16:48:52</td>\n",
       "      <td>2020-12-10 16:48:47</td>\n",
       "      <td>0 days 00:00:05</td>\n",
       "    </tr>\n",
       "  </tbody>\n",
       "</table>\n",
       "</div>"
      ],
      "text/plain": [
       "                       max                 min            diff\n",
       "group2                                                        \n",
       "1      2020-12-10 16:44:51 2020-12-10 16:44:16 0 days 00:00:35\n",
       "2      2020-12-10 16:46:46 2020-12-10 16:46:06 0 days 00:00:40\n",
       "3      2020-12-10 16:48:52 2020-12-10 16:48:47 0 days 00:00:05"
      ]
     },
     "execution_count": 27,
     "metadata": {},
     "output_type": "execute_result"
    }
   ],
   "source": [
    "result2"
   ]
  },
  {
   "cell_type": "code",
   "execution_count": 53,
   "metadata": {},
   "outputs": [
    {
     "data": {
      "text/plain": [
       "1.3333333333333333"
      ]
     },
     "execution_count": 53,
     "metadata": {},
     "output_type": "execute_result"
    }
   ],
   "source": [
    "# total time above maximum heart rate\n",
    "difference2 = result2['diff'].sum()\n",
    "minutes = difference2.total_seconds() / 60\n",
    "minutes"
   ]
  },
  {
   "cell_type": "code",
   "execution_count": null,
   "metadata": {},
   "outputs": [],
   "source": []
  },
  {
   "cell_type": "code",
   "execution_count": null,
   "metadata": {},
   "outputs": [],
   "source": []
  }
 ],
 "metadata": {
  "kernelspec": {
   "display_name": "Python 3",
   "language": "python",
   "name": "python3"
  },
  "language_info": {
   "codemirror_mode": {
    "name": "ipython",
    "version": 3
   },
   "file_extension": ".py",
   "mimetype": "text/x-python",
   "name": "python",
   "nbconvert_exporter": "python",
   "pygments_lexer": "ipython3",
   "version": "3.7.9"
  }
 },
 "nbformat": 4,
 "nbformat_minor": 4
}
